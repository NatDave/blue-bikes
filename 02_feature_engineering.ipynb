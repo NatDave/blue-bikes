{
 "cells": [
  {
   "cell_type": "code",
   "execution_count": 1,
   "metadata": {
    "id": "ZSIqJ9nGSuHd"
   },
   "outputs": [],
   "source": [
    "import pandas as pd\n",
    "import numpy as np\n",
    "import matplotlib.pyplot as plt\n",
    "\n",
    "import warnings\n",
    "warnings.filterwarnings(\"ignore\")"
   ]
  },
  {
   "cell_type": "code",
   "execution_count": 2,
   "metadata": {
    "colab": {
     "base_uri": "https://localhost:8080/",
     "height": 444
    },
    "executionInfo": {
     "elapsed": 450,
     "status": "ok",
     "timestamp": 1733338113415,
     "user": {
      "displayName": "Nathan David Obeng-Amoako",
      "userId": "11953631724850969111"
     },
     "user_tz": 300
    },
    "id": "OAygdl-686TZ",
    "outputId": "cc139732-8dad-444b-c430-d3813708da1f"
   },
   "outputs": [],
   "source": [
    "base_dir = \"C:/Users/natda/Desktop/NatDave/Academics/PhD_NU/RESEARCH/BlueBikes/\"\n",
    "\n",
    "# Load cleaned trip data\n",
    "cleaned_path = base_dir + \"cleaned_trips.csv\"\n",
    "df = pd.read_csv(cleaned_path)\n",
    "\n",
    "# Load station distance matrix\n",
    "distance_matrix_path = base_dir + \"station_distance_matrix.csv\"\n",
    "distance_matrix = pd.read_csv(distance_matrix_path)"
   ]
  },
  {
   "cell_type": "code",
   "execution_count": 3,
   "metadata": {
    "colab": {
     "base_uri": "https://localhost:8080/",
     "height": 507
    },
    "executionInfo": {
     "elapsed": 525,
     "status": "ok",
     "timestamp": 1733338501270,
     "user": {
      "displayName": "Nathan David Obeng-Amoako",
      "userId": "11953631724850969111"
     },
     "user_tz": 300
    },
    "id": "Qic3_1o85mAm",
    "outputId": "8a57d9dc-fd16-41bc-cb69-12ff334a01b6"
   },
   "outputs": [],
   "source": [
    "# Convert started_at and ended_at columns to datetime\n",
    "df[\"started_at\"] = pd.to_datetime(df[\"started_at\"], errors='coerce')\n",
    "df[\"ended_at\"] = pd.to_datetime(df[\"ended_at\"], errors='coerce')\n",
    "\n",
    "# Create temporal features\n",
    "df['hour_of_day'] = df['started_at'].dt.hour\n",
    "df['day_of_week'] = df[\"started_at\"].dt.day_name()\n",
    "df['day_of_week_encoded'] = df['started_at'].dt.dayofweek\n",
    "df['month_of_year'] = df['started_at'].dt.month_name()\n",
    "df['month_of_year_encoded'] = df['started_at'].dt.month\n",
    "df['is_weekend'] = (df['day_of_week_encoded'] >= 5).astype(int)\n",
    "\n",
    "def get_season(month):\n",
    "    if month in [12, 1, 2]:\n",
    "        return 'Winter'\n",
    "    elif month in [3, 4, 5]:\n",
    "        return 'Spring'\n",
    "    elif month in [6, 7, 8]:\n",
    "        return 'Summer'\n",
    "    else:\n",
    "        return 'Fall'\n",
    "df['season'] = df['started_at'].dt.month.apply(get_season)"
   ]
  },
  {
   "cell_type": "code",
   "execution_count": 4,
   "metadata": {},
   "outputs": [
    {
     "name": "stdout",
     "output_type": "stream",
     "text": [
      "Number of trips with unreasonable durations: 22274\n"
     ]
    }
   ],
   "source": [
    "# Calculate trip duration in minutes and filter invalid durations (<= 0 or > 120 minutes)\n",
    "df[\"trip_duration_minutes\"] = (df[\"ended_at\"] - df[\"started_at\"]).dt.total_seconds() / 60\n",
    "df['trip_duration_minutes'] = df['trip_duration_minutes'].\\\n",
    "                              where(df['trip_duration_minutes'].between(0, 120), None)\n",
    "\n",
    "# Print count of invalid durations and filter rows\n",
    "print(f\"Number of trips with unreasonable durations: {(df['trip_duration_minutes'].isna()).sum()}\")\n",
    "df = df[df['trip_duration_minutes'].notna()]"
   ]
  },
  {
   "cell_type": "code",
   "execution_count": 5,
   "metadata": {},
   "outputs": [
    {
     "name": "stdout",
     "output_type": "stream",
     "text": [
      "Number of trips that started and ended at the same station: 169448\n"
     ]
    },
    {
     "data": {
      "image/png": "[encoded data removed]",
      "text/plain": [
       "<Figure size 800x400 with 1 Axes>"
      ]
     },
     "metadata": {},
     "output_type": "display_data"
    }
   ],
   "source": [
    "# Filter trips where the start and end stations are the same\n",
    "same_station_trips = df[df['start_station_id'] == df['end_station_id']]\n",
    "\n",
    "# Print the number of such trips\n",
    "print(f\"Number of trips that started and ended at the same station: {len(same_station_trips)}\")\n",
    "\n",
    "# Define custom bins for the histogram\n",
    "bins = np.arange(0, 34, 2)\n",
    "bins = np.append(bins, [np.inf])  # Adding a final bin for durations >30\n",
    "\n",
    "# Plot the histogram\n",
    "plt.figure(figsize=(8, 4))\n",
    "plt.hist(same_station_trips['trip_duration_minutes'], bins=bins, color='skyblue', edgecolor='black')\n",
    "plt.title('Distribution of Trip Durations for Same-Station Trips')\n",
    "plt.xlabel('Trip Duration (minutes)')\n",
    "plt.ylabel('Number of Trips')\n",
    "plt.xticks(ticks=bins[:-1], labels=[f\"{int(b)}-{int(bins[i+1])}\" if i < len(bins) - 2 else \">32\" for i, b in enumerate(bins[:-1])])\n",
    "\n",
    "plt.show()"
   ]
  },
  {
   "cell_type": "code",
   "execution_count": 6,
   "metadata": {},
   "outputs": [
    {
     "name": "stdout",
     "output_type": "stream",
     "text": [
      "Number of trips after removing unreasonable same-station trips: 4842761\n"
     ]
    }
   ],
   "source": [
    "# Remove same-station trips with duration < 5 minutes\n",
    "df = df[~((df['start_station_id'] == df['end_station_id']) &\n",
    "                             (df['trip_duration_minutes'] < 5))]\n",
    "\n",
    "# Size of resulting dataset\n",
    "print(f\"Number of trips after removing unreasonable same-station trips: {len(df)}\")"
   ]
  },
  {
   "cell_type": "code",
   "execution_count": 7,
   "metadata": {},
   "outputs": [],
   "source": [
    "def calculate_trip_distance_km(row):\n",
    "    start_station = row['start_station_id']\n",
    "    end_station = row['end_station_id']\n",
    "    try:\n",
    "        distance = distance_matrix.loc[start_station, end_station]\n",
    "        return distance\n",
    "    except KeyError:\n",
    "        return 0\n",
    "\n",
    "df['trip_distance_km'] = df.apply(calculate_trip_distance_km, axis=1)"
   ]
  },
  {
   "cell_type": "code",
   "execution_count": 8,
   "metadata": {},
   "outputs": [
    {
     "data": {
      "text/html": [
       "<div>\n",
       "<style scoped>\n",
       "    .dataframe tbody tr th:only-of-type {\n",
       "        vertical-align: middle;\n",
       "    }\n",
       "\n",
       "    .dataframe tbody tr th {\n",
       "        vertical-align: top;\n",
       "    }\n",
       "\n",
       "    .dataframe thead th {\n",
       "        text-align: right;\n",
       "    }\n",
       "</style>\n",
       "<table border=\"1\" class=\"dataframe\">\n",
       "  <thead>\n",
       "    <tr style=\"text-align: right;\">\n",
       "      <th></th>\n",
       "      <th>ride_id</th>\n",
       "      <th>bike_type</th>\n",
       "      <th>started_at</th>\n",
       "      <th>ended_at</th>\n",
       "      <th>start_station_name</th>\n",
       "      <th>start_station_id</th>\n",
       "      <th>end_station_name</th>\n",
       "      <th>end_station_id</th>\n",
       "      <th>start_lat</th>\n",
       "      <th>start_lng</th>\n",
       "      <th>...</th>\n",
       "      <th>rider_type</th>\n",
       "      <th>hour_of_day</th>\n",
       "      <th>day_of_week</th>\n",
       "      <th>day_of_week_encoded</th>\n",
       "      <th>month_of_year</th>\n",
       "      <th>month_of_year_encoded</th>\n",
       "      <th>is_weekend</th>\n",
       "      <th>season</th>\n",
       "      <th>trip_duration_minutes</th>\n",
       "      <th>trip_distance_km</th>\n",
       "    </tr>\n",
       "  </thead>\n",
       "  <tbody>\n",
       "    <tr>\n",
       "      <th>0</th>\n",
       "      <td>31F12D722DEC2205</td>\n",
       "      <td>traditional</td>\n",
       "      <td>2023-12-01 00:00:47</td>\n",
       "      <td>2023-12-01 00:18:32</td>\n",
       "      <td>MIT Carleton St at Amherst St</td>\n",
       "      <td>M32070</td>\n",
       "      <td>Lower Cambridgeport at Magazine St / Riverside Rd</td>\n",
       "      <td>M32022</td>\n",
       "      <td>42.360541</td>\n",
       "      <td>-71.086698</td>\n",
       "      <td>...</td>\n",
       "      <td>member</td>\n",
       "      <td>0</td>\n",
       "      <td>Friday</td>\n",
       "      <td>4</td>\n",
       "      <td>December</td>\n",
       "      <td>12</td>\n",
       "      <td>0</td>\n",
       "      <td>Winter</td>\n",
       "      <td>17.750000</td>\n",
       "      <td>0</td>\n",
       "    </tr>\n",
       "    <tr>\n",
       "      <th>1</th>\n",
       "      <td>C7B5105B0B65C0F3</td>\n",
       "      <td>traditional</td>\n",
       "      <td>2023-12-01 00:02:04</td>\n",
       "      <td>2023-12-01 00:07:54</td>\n",
       "      <td>MIT at Mass Ave / Amherst St</td>\n",
       "      <td>M32006</td>\n",
       "      <td>MIT Vassar St</td>\n",
       "      <td>M32042</td>\n",
       "      <td>42.358100</td>\n",
       "      <td>-71.093198</td>\n",
       "      <td>...</td>\n",
       "      <td>member</td>\n",
       "      <td>0</td>\n",
       "      <td>Friday</td>\n",
       "      <td>4</td>\n",
       "      <td>December</td>\n",
       "      <td>12</td>\n",
       "      <td>0</td>\n",
       "      <td>Winter</td>\n",
       "      <td>5.833333</td>\n",
       "      <td>0</td>\n",
       "    </tr>\n",
       "    <tr>\n",
       "      <th>2</th>\n",
       "      <td>68B5F2A512F98D31</td>\n",
       "      <td>traditional</td>\n",
       "      <td>2023-12-01 00:02:11</td>\n",
       "      <td>2023-12-01 00:03:15</td>\n",
       "      <td>South Station - 700 Atlantic Ave</td>\n",
       "      <td>A32010</td>\n",
       "      <td>Boston Landing</td>\n",
       "      <td>A32045</td>\n",
       "      <td>42.352175</td>\n",
       "      <td>-71.055547</td>\n",
       "      <td>...</td>\n",
       "      <td>member</td>\n",
       "      <td>0</td>\n",
       "      <td>Friday</td>\n",
       "      <td>4</td>\n",
       "      <td>December</td>\n",
       "      <td>12</td>\n",
       "      <td>0</td>\n",
       "      <td>Winter</td>\n",
       "      <td>1.066667</td>\n",
       "      <td>0</td>\n",
       "    </tr>\n",
       "    <tr>\n",
       "      <th>3</th>\n",
       "      <td>498C4A8C729ED986</td>\n",
       "      <td>traditional</td>\n",
       "      <td>2023-12-01 00:04:19</td>\n",
       "      <td>2023-12-01 00:14:00</td>\n",
       "      <td>One Beacon St</td>\n",
       "      <td>B32061</td>\n",
       "      <td>Columbus Ave at W. Canton St</td>\n",
       "      <td>C32077</td>\n",
       "      <td>42.358477</td>\n",
       "      <td>-71.061351</td>\n",
       "      <td>...</td>\n",
       "      <td>member</td>\n",
       "      <td>0</td>\n",
       "      <td>Friday</td>\n",
       "      <td>4</td>\n",
       "      <td>December</td>\n",
       "      <td>12</td>\n",
       "      <td>0</td>\n",
       "      <td>Winter</td>\n",
       "      <td>9.683333</td>\n",
       "      <td>0</td>\n",
       "    </tr>\n",
       "    <tr>\n",
       "      <th>4</th>\n",
       "      <td>2B9A06F84509E2C0</td>\n",
       "      <td>traditional</td>\n",
       "      <td>2023-12-01 00:04:38</td>\n",
       "      <td>2023-12-01 00:16:16</td>\n",
       "      <td>Silber Way</td>\n",
       "      <td>D32032</td>\n",
       "      <td>Dartmouth St at Newbury St</td>\n",
       "      <td>D32045</td>\n",
       "      <td>42.349495</td>\n",
       "      <td>-71.100575</td>\n",
       "      <td>...</td>\n",
       "      <td>member</td>\n",
       "      <td>0</td>\n",
       "      <td>Friday</td>\n",
       "      <td>4</td>\n",
       "      <td>December</td>\n",
       "      <td>12</td>\n",
       "      <td>0</td>\n",
       "      <td>Winter</td>\n",
       "      <td>11.633333</td>\n",
       "      <td>0</td>\n",
       "    </tr>\n",
       "  </tbody>\n",
       "</table>\n",
       "<p>5 rows × 22 columns</p>\n",
       "</div>"
      ],
      "text/plain": [
       "            ride_id    bike_type          started_at            ended_at  \\\n",
       "0  31F12D722DEC2205  traditional 2023-12-01 00:00:47 2023-12-01 00:18:32   \n",
       "1  C7B5105B0B65C0F3  traditional 2023-12-01 00:02:04 2023-12-01 00:07:54   \n",
       "2  68B5F2A512F98D31  traditional 2023-12-01 00:02:11 2023-12-01 00:03:15   \n",
       "3  498C4A8C729ED986  traditional 2023-12-01 00:04:19 2023-12-01 00:14:00   \n",
       "4  2B9A06F84509E2C0  traditional 2023-12-01 00:04:38 2023-12-01 00:16:16   \n",
       "\n",
       "                 start_station_name start_station_id  \\\n",
       "0     MIT Carleton St at Amherst St           M32070   \n",
       "1      MIT at Mass Ave / Amherst St           M32006   \n",
       "2  South Station - 700 Atlantic Ave           A32010   \n",
       "3                     One Beacon St           B32061   \n",
       "4                        Silber Way           D32032   \n",
       "\n",
       "                                    end_station_name end_station_id  \\\n",
       "0  Lower Cambridgeport at Magazine St / Riverside Rd         M32022   \n",
       "1                                      MIT Vassar St         M32042   \n",
       "2                                     Boston Landing         A32045   \n",
       "3                       Columbus Ave at W. Canton St         C32077   \n",
       "4                         Dartmouth St at Newbury St         D32045   \n",
       "\n",
       "   start_lat  start_lng  ...  rider_type  hour_of_day day_of_week  \\\n",
       "0  42.360541 -71.086698  ...      member            0      Friday   \n",
       "1  42.358100 -71.093198  ...      member            0      Friday   \n",
       "2  42.352175 -71.055547  ...      member            0      Friday   \n",
       "3  42.358477 -71.061351  ...      member            0      Friday   \n",
       "4  42.349495 -71.100575  ...      member            0      Friday   \n",
       "\n",
       "   day_of_week_encoded month_of_year  month_of_year_encoded is_weekend  \\\n",
       "0                    4      December                     12          0   \n",
       "1                    4      December                     12          0   \n",
       "2                    4      December                     12          0   \n",
       "3                    4      December                     12          0   \n",
       "4                    4      December                     12          0   \n",
       "\n",
       "   season  trip_duration_minutes trip_distance_km  \n",
       "0  Winter              17.750000                0  \n",
       "1  Winter               5.833333                0  \n",
       "2  Winter               1.066667                0  \n",
       "3  Winter               9.683333                0  \n",
       "4  Winter              11.633333                0  \n",
       "\n",
       "[5 rows x 22 columns]"
      ]
     },
     "execution_count": 8,
     "metadata": {},
     "output_type": "execute_result"
    }
   ],
   "source": [
    "df.head()"
   ]
  },
  {
   "cell_type": "code",
   "execution_count": 9,
   "metadata": {},
   "outputs": [
    {
     "name": "stdout",
     "output_type": "stream",
     "text": [
      "Feature engineered data saved\n"
     ]
    }
   ],
   "source": [
    "# Save the dataset with new features for reuse\n",
    "feature_engineered_path = base_dir + \"feature_engineered_trips.csv\"\n",
    "df.to_csv(feature_engineered_path, index=False)\n",
    "print(f\"Feature engineered data saved\")"
   ]
  }
 ],
 "metadata": {
  "colab": {
   "authorship_tag": "ABX9TyMTKSystjnUlPI1+JJVQPh4",
   "mount_file_id": "1E-jPB3-ciu9nq5Ma58qX2gqLCBRzUx1v",
   "provenance": []
  },
  "kernelspec": {
   "display_name": "Python 3",
   "name": "python3"
  },
  "language_info": {
   "codemirror_mode": {
    "name": "ipython",
    "version": 3
   },
   "file_extension": ".py",
   "mimetype": "text/x-python",
   "name": "python",
   "nbconvert_exporter": "python",
   "pygments_lexer": "ipython3",
   "version": "3.10.0"
  }
 },
 "nbformat": 4,
 "nbformat_minor": 0
}
