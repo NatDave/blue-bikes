{
 "cells": [
  {
   "cell_type": "code",
   "execution_count": 1,
   "metadata": {
    "id": "ZSIqJ9nGSuHd"
   },
   "outputs": [],
   "source": [
    "import pandas as pd\n",
    "import warnings\n",
    "\n",
    "warnings.filterwarnings(\"ignore\")"
   ]
  },
  {
   "cell_type": "code",
   "execution_count": 2,
   "metadata": {
    "id": "pcK_9MYEU-HW"
   },
   "outputs": [],
   "source": [
    "# Load the data\n",
    "base_dir = \"C:/Users/natda/Desktop/NatDave/Academics/PhD_NU/RESEARCH/BlueBikes/\"\n",
    "df = pd.read_csv(base_dir + \"all_trips.csv\")\n",
    "\n",
    "# Replace 'electric_bike' with 'electric' and 'classic_bike' with 'traditional'\n",
    "df['bike_type'] = df['bike_type'] \\\n",
    "                        .replace({'electric_bike': 'electric',\n",
    "                                  'classic_bike': 'traditional'})\n",
    "\n",
    "# Rename the columns\n",
    "df = df.rename(columns={\"member_casual\": \"rider_type\", \"rideable_type\": \"bike_type\"})"
   ]
  },
  {
   "cell_type": "code",
   "execution_count": 3,
   "metadata": {
    "colab": {
     "base_uri": "https://localhost:8080/"
    },
    "executionInfo": {
     "elapsed": 6,
     "status": "ok",
     "timestamp": 1733338044066,
     "user": {
      "displayName": "Nathan David Obeng-Amoako",
      "userId": "11953631724850969111"
     },
     "user_tz": 300
    },
    "id": "nzypN3CJ3PC9",
    "outputId": "fca0ae31-46cd-43cd-ece6-41d93a5036e7"
   },
   "outputs": [
    {
     "name": "stdout",
     "output_type": "stream",
     "text": [
      "Data Shape: (4921170, 13)\n"
     ]
    }
   ],
   "source": [
    "print(f\"Data Shape: {df.shape}\")"
   ]
  },
  {
   "cell_type": "code",
   "execution_count": 4,
   "metadata": {
    "colab": {
     "base_uri": "https://localhost:8080/",
     "height": 492
    },
    "executionInfo": {
     "elapsed": 6,
     "status": "ok",
     "timestamp": 1733338046230,
     "user": {
      "displayName": "Nathan David Obeng-Amoako",
      "userId": "11953631724850969111"
     },
     "user_tz": 300
    },
    "id": "QxnFNrJuwBco",
    "outputId": "607408b3-a0d8-47cc-b24f-8d29fdf49e96"
   },
   "outputs": [
    {
     "data": {
      "text/plain": [
       "ride_id                object\n",
       "bike_type              object\n",
       "started_at             object\n",
       "ended_at               object\n",
       "start_station_name     object\n",
       "start_station_id       object\n",
       "end_station_name       object\n",
       "end_station_id         object\n",
       "start_lat             float64\n",
       "start_lng             float64\n",
       "end_lat               float64\n",
       "end_lng               float64\n",
       "rider_type             object\n",
       "dtype: object"
      ]
     },
     "execution_count": 4,
     "metadata": {},
     "output_type": "execute_result"
    }
   ],
   "source": [
    "df.dtypes"
   ]
  },
  {
   "cell_type": "code",
   "execution_count": 5,
   "metadata": {
    "colab": {
     "base_uri": "https://localhost:8080/",
     "height": 147
    },
    "executionInfo": {
     "elapsed": 4876,
     "status": "ok",
     "timestamp": 1733338051102,
     "user": {
      "displayName": "Nathan David Obeng-Amoako",
      "userId": "11953631724850969111"
     },
     "user_tz": 300
    },
    "id": "HbIBcM5wHJlD",
    "outputId": "68f14625-85b1-44bd-8c29-19357753ef66"
   },
   "outputs": [
    {
     "data": {
      "text/plain": [
       "started_at    datetime64[ns]\n",
       "ended_at      datetime64[ns]\n",
       "dtype: object"
      ]
     },
     "execution_count": 5,
     "metadata": {},
     "output_type": "execute_result"
    }
   ],
   "source": [
    "# Convert started_at and ended_at columns to datetime\n",
    "df[\"started_at\"] = pd.to_datetime(df[\"started_at\"], errors='coerce')\n",
    "df[\"ended_at\"] = pd.to_datetime(df[\"ended_at\"], errors='coerce')\n",
    "\n",
    "# Check the data types after conversion\n",
    "df[[\"started_at\", \"ended_at\"]].dtypes"
   ]
  },
  {
   "cell_type": "code",
   "execution_count": 6,
   "metadata": {
    "colab": {
     "base_uri": "https://localhost:8080/"
    },
    "executionInfo": {
     "elapsed": 10917,
     "status": "ok",
     "timestamp": 1733338062016,
     "user": {
      "displayName": "Nathan David Obeng-Amoako",
      "userId": "11953631724850969111"
     },
     "user_tz": 300
    },
    "id": "Q84bsyqO-HMx",
    "outputId": "82a11b22-a8a1-4c7d-edee-34e8ebd381fa"
   },
   "outputs": [
    {
     "name": "stdout",
     "output_type": "stream",
     "text": [
      "No rows with fractional seconds found.\n"
     ]
    }
   ],
   "source": [
    "# Function to check for fractional seconds\n",
    "def check_fractional_seconds(df, *features):\n",
    "    fractional_seconds = df[df[features[0]].astype(str).str.contains(r\"\\.\\d+\")]\n",
    "\n",
    "    if fractional_seconds.empty:\n",
    "        print(\"No rows with fractional seconds found.\")\n",
    "    else:\n",
    "        print(fractional_seconds[[*features]].head())\n",
    "\n",
    "# Check for fractional seconds\n",
    "check_fractional_seconds(df, 'started_at', 'ended_at')"
   ]
  },
  {
   "cell_type": "code",
   "execution_count": 7,
   "metadata": {},
   "outputs": [
    {
     "name": "stdout",
     "output_type": "stream",
     "text": [
      "No invalid dates found.\n"
     ]
    }
   ],
   "source": [
    "# Identify rows where conversion to datetime failed\n",
    "invalid_dates = df[df[\"started_at\"].isna() | df[\"ended_at\"].isna()]\n",
    "\n",
    "if invalid_dates.empty:\n",
    "    print(\"No invalid dates found.\")\n",
    "else:\n",
    "    # Display the first few rows with invalid dates\n",
    "    print(\"Invalid date entries (showing first 5 rows):\")\n",
    "    print(invalid_dates[[\"started_at\", \"ended_at\"]].head())\n",
    "    \n",
    "    # Count the number of invalid date entries\n",
    "    num_invalid_dates = invalid_dates.shape[0]\n",
    "    print(f\"\\nNumber of rows with invalid dates: {num_invalid_dates}.\")"
   ]
  },
  {
   "cell_type": "code",
   "execution_count": 8,
   "metadata": {},
   "outputs": [
    {
     "data": {
      "text/html": [
       "<div>\n",
       "<style scoped>\n",
       "    .dataframe tbody tr th:only-of-type {\n",
       "        vertical-align: middle;\n",
       "    }\n",
       "\n",
       "    .dataframe tbody tr th {\n",
       "        vertical-align: top;\n",
       "    }\n",
       "\n",
       "    .dataframe thead th {\n",
       "        text-align: right;\n",
       "    }\n",
       "</style>\n",
       "<table border=\"1\" class=\"dataframe\">\n",
       "  <thead>\n",
       "    <tr style=\"text-align: right;\">\n",
       "      <th></th>\n",
       "      <th>ride_id</th>\n",
       "      <th>bike_type</th>\n",
       "      <th>started_at</th>\n",
       "      <th>ended_at</th>\n",
       "      <th>start_station_name</th>\n",
       "      <th>start_station_id</th>\n",
       "      <th>end_station_name</th>\n",
       "      <th>end_station_id</th>\n",
       "      <th>start_lat</th>\n",
       "      <th>start_lng</th>\n",
       "      <th>end_lat</th>\n",
       "      <th>end_lng</th>\n",
       "      <th>rider_type</th>\n",
       "    </tr>\n",
       "  </thead>\n",
       "  <tbody>\n",
       "  </tbody>\n",
       "</table>\n",
       "</div>"
      ],
      "text/plain": [
       "Empty DataFrame\n",
       "Columns: [ride_id, bike_type, started_at, ended_at, start_station_name, start_station_id, end_station_name, end_station_id, start_lat, start_lng, end_lat, end_lng, rider_type]\n",
       "Index: []"
      ]
     },
     "execution_count": 8,
     "metadata": {},
     "output_type": "execute_result"
    }
   ],
   "source": [
    "invalid_dates"
   ]
  },
  {
   "cell_type": "code",
   "execution_count": 9,
   "metadata": {
    "colab": {
     "base_uri": "https://localhost:8080/",
     "height": 492
    },
    "executionInfo": {
     "elapsed": 2354,
     "status": "ok",
     "timestamp": 1733338064367,
     "user": {
      "displayName": "Nathan David Obeng-Amoako",
      "userId": "11953631724850969111"
     },
     "user_tz": 300
    },
    "id": "UgGMeRfTb4Pl",
    "outputId": "45fc5292-3eed-4fa4-83cb-70a36ed27f1d"
   },
   "outputs": [
    {
     "data": {
      "text/plain": [
       "ride_id                  0\n",
       "bike_type                0\n",
       "started_at               0\n",
       "ended_at                 0\n",
       "start_station_name    1443\n",
       "start_station_id      1443\n",
       "end_station_name      8748\n",
       "end_station_id        9151\n",
       "start_lat                0\n",
       "start_lng                0\n",
       "end_lat               3962\n",
       "end_lng               3962\n",
       "rider_type               0\n",
       "dtype: int64"
      ]
     },
     "execution_count": 9,
     "metadata": {},
     "output_type": "execute_result"
    }
   ],
   "source": [
    "# Missing values\n",
    "missing_values = df.isnull().sum()\n",
    "missing_values"
   ]
  },
  {
   "cell_type": "code",
   "execution_count": 10,
   "metadata": {
    "id": "KM2XBQpocJFz"
   },
   "outputs": [],
   "source": [
    "# Remove rows with any missing values\n",
    "df = df.dropna()"
   ]
  },
  {
   "cell_type": "code",
   "execution_count": 11,
   "metadata": {
    "colab": {
     "base_uri": "https://localhost:8080/"
    },
    "executionInfo": {
     "elapsed": 6838,
     "status": "ok",
     "timestamp": 1733338074338,
     "user": {
      "displayName": "Nathan David Obeng-Amoako",
      "userId": "11953631724850969111"
     },
     "user_tz": 300
    },
    "id": "cvvSNGpNZYtY",
    "outputId": "a915b18c-a30e-4204-ab87-a462e72b721f"
   },
   "outputs": [
    {
     "name": "stdout",
     "output_type": "stream",
     "text": [
      "Start Station Names Mapping to Multiple IDs:\n",
      "Somerville Hospital: ['S32020', 'S32052'] (Instances: 2)\n",
      "Tremont St at Court St: ['A32046', 'A32058'] (Instances: 2)\n",
      "\n",
      "Start Station IDs Mapping to Multiple Names:\n",
      "A32024: ['Staniford at Merrimac', 'Staniford St at Merrimac St'] (Instances: 2)\n",
      "A32046: ['Tremont St at Court St', 'Canal St. at Causeway St.', 'Canal St at Causeway St'] (Instances: 3)\n",
      "A32058: ['Tremont St. at Court St.', 'Tremont St at Court St'] (Instances: 2)\n",
      "B32038: ['Chestnut Hill Ave. at Ledgemere Road', 'Chestnut Hill Ave at Ledgemere Rd'] (Instances: 2)\n",
      "C32054: ['Shawmut Ave. at Herald St.', 'Shawmut Ave at Herald St'] (Instances: 2)\n",
      "C32109: ['Centre St. at Allandale St.', 'Centre St at Allandale St'] (Instances: 2)\n",
      "E32003: ['Hyde Square - Barbara St at Centre St', 'Hyde Square - Centre St at Perkins St'] (Instances: 2)\n",
      "L32007: ['Swan Pl. at Minuteman Bikeway', 'Swan Place at Minuteman Bikeway'] (Instances: 2)\n",
      "L32010: ['Medford St. at Warren St.', 'Medford St at Warren St'] (Instances: 2)\n",
      "M32019: ['CambridgeSide Galleria - CambridgeSide PL at Land Blvd', 'Cambridgeside Pl at Land Blvd'] (Instances: 2)\n",
      "S32052: ['Summer St at Quincy St', 'Somerville Hospital'] (Instances: 2)\n",
      "V32003: ['Everett Square (Broadway at Chelsea St)', 'Everett Square (Broadway at Norwood St)'] (Instances: 2)\n",
      "c32014: ['Damrell st at Old Colony Ave', 'Damrell St at Old Colony Ave'] (Instances: 2)\n",
      "\n",
      "End Station Names Mapping to Multiple IDs:\n",
      "Somerville Hospital: ['S32020', 'S32052'] (Instances: 2)\n",
      "Tremont St at Court St: ['A32046', 'A32058'] (Instances: 2)\n",
      "\n",
      "End Station IDs Mapping to Multiple Names:\n",
      "A32024: ['Staniford at Merrimac', 'Staniford St at Merrimac St'] (Instances: 2)\n",
      "A32046: ['Tremont St at Court St', 'Canal St. at Causeway St.', 'Canal St at Causeway St'] (Instances: 3)\n",
      "A32058: ['Tremont St. at Court St.', 'Tremont St at Court St'] (Instances: 2)\n",
      "B32038: ['Chestnut Hill Ave. at Ledgemere Road', 'Chestnut Hill Ave at Ledgemere Rd'] (Instances: 2)\n",
      "C32054: ['Shawmut Ave. at Herald St.', 'Shawmut Ave at Herald St'] (Instances: 2)\n",
      "C32109: ['Centre St. at Allandale St.', 'Centre St at Allandale St'] (Instances: 2)\n",
      "E32003: ['Hyde Square - Barbara St at Centre St', 'Hyde Square - Centre St at Perkins St'] (Instances: 2)\n",
      "L32007: ['Swan Pl. at Minuteman Bikeway', 'Swan Place at Minuteman Bikeway'] (Instances: 2)\n",
      "M32019: ['CambridgeSide Galleria - CambridgeSide PL at Land Blvd', 'Cambridgeside Pl at Land Blvd'] (Instances: 2)\n",
      "S32052: ['Summer St at Quincy St', 'Somerville Hospital'] (Instances: 2)\n",
      "V32003: ['Everett Square (Broadway at Chelsea St)', 'Everett Square (Broadway at Norwood St)'] (Instances: 2)\n",
      "c32014: ['Damrell st at Old Colony Ave', 'Damrell St at Old Colony Ave'] (Instances: 2)\n"
     ]
    }
   ],
   "source": [
    "def validate_station_mappings(dataframe):\n",
    "    \"\"\"\n",
    "    Validate Station Name-to-ID mappings for both start and end stations.\n",
    "\n",
    "    This function checks for inconsistencies between station names and station IDs by identifying\n",
    "    cases where a station name is associated with multiple station IDs or where a station ID is\n",
    "    associated with multiple station names. The results are printed to the console.\n",
    "\n",
    "    Parameters:\n",
    "        dataframe (pd.DataFrame): The DataFrame containing bike trip data with station names and IDs.\n",
    "    \"\"\"\n",
    "\n",
    "    # Create dictionaries to map start station names to IDs and start station IDs to names\n",
    "    start_name_to_ids = dataframe.groupby(\"start_station_name\")[\"start_station_id\"].unique().to_dict()\n",
    "    start_id_to_names = dataframe.groupby(\"start_station_id\")[\"start_station_name\"].unique().to_dict()\n",
    "\n",
    "    # Create dictionaries to map end station names to IDs and end station IDs to names\n",
    "    end_name_to_ids = dataframe.groupby(\"end_station_name\")[\"end_station_id\"].unique().to_dict()\n",
    "    end_id_to_names = dataframe.groupby(\"end_station_id\")[\"end_station_name\"].unique().to_dict()\n",
    "\n",
    "    # Check for mismatches in start stations (name to multiple IDs)\n",
    "    print(\"Start Station Names Mapping to Multiple IDs:\")\n",
    "    if any(len(ids) > 1 for ids in start_name_to_ids.values()):\n",
    "        for name, ids in start_name_to_ids.items():\n",
    "            if len(ids) > 1:\n",
    "                print(f\"{name}: {list(ids)} (Instances: {len(ids)})\")\n",
    "    else:\n",
    "        print(\"nil\")\n",
    "\n",
    "    # Check for mismatches in start stations (ID to multiple names)\n",
    "    print(\"\\nStart Station IDs Mapping to Multiple Names:\")\n",
    "    if any(len(names) > 1 for names in start_id_to_names.values()):\n",
    "        for station_id, names in start_id_to_names.items():\n",
    "            if len(names) > 1:\n",
    "                print(f\"{station_id}: {list(names)} (Instances: {len(names)})\")\n",
    "    else:\n",
    "        print(\"nil\")\n",
    "\n",
    "    # Check for mismatches in end stations (name to multiple IDs)\n",
    "    print(\"\\nEnd Station Names Mapping to Multiple IDs:\")\n",
    "    if any(len(ids) > 1 for ids in end_name_to_ids.values()):\n",
    "        for name, ids in end_name_to_ids.items():\n",
    "            if len(ids) > 1:\n",
    "                print(f\"{name}: {list(ids)} (Instances: {len(ids)})\")\n",
    "    else:\n",
    "        print(\"nil\")\n",
    "\n",
    "    # Check for mismatches in end stations (ID to multiple names)\n",
    "    print(\"\\nEnd Station IDs Mapping to Multiple Names:\")\n",
    "    if any(len(names) > 1 for names in end_id_to_names.values()):\n",
    "        for station_id, names in end_id_to_names.items():\n",
    "            if len(names) > 1:\n",
    "                print(f\"{station_id}: {list(names)} (Instances: {len(names)})\")\n",
    "    else:\n",
    "        print(\"nil\")\n",
    "\n",
    "validate_station_mappings(df)"
   ]
  },
  {
   "cell_type": "code",
   "execution_count": 12,
   "metadata": {
    "colab": {
     "base_uri": "https://localhost:8080/"
    },
    "executionInfo": {
     "elapsed": 3044,
     "status": "ok",
     "timestamp": 1733338077516,
     "user": {
      "displayName": "Nathan David Obeng-Amoako",
      "userId": "11953631724850969111"
     },
     "user_tz": 300
    },
    "id": "osi6fHhFesTx",
    "outputId": "8f1a19a9-cf99-426c-c37e-62d80863ba66"
   },
   "outputs": [
    {
     "name": "stdout",
     "output_type": "stream",
     "text": [
      "138 of the trips start or end at station S32020.\n"
     ]
    }
   ],
   "source": [
    "# Delete trips starting or ending at station ID \"S32020\" (this station does not exist)\n",
    "start_S32020 = df[\"start_station_id\"].value_counts().get(\"S32020\", 0)\n",
    "end_S32020 = df[\"end_station_id\"].value_counts().get(\"S32020\", 0)\n",
    "\n",
    "S32020_mismatch = start_S32020 + end_S32020\n",
    "print(f\"{S32020_mismatch} of the trips start or end at station S32020.\")\n",
    "\n",
    "df = df[~((df[\"start_station_id\"] == \"S32020\") |\n",
    "                            (df[\"end_station_id\"] == \"S32020\"))]"
   ]
  },
  {
   "cell_type": "code",
   "execution_count": 13,
   "metadata": {
    "colab": {
     "base_uri": "https://localhost:8080/"
    },
    "executionInfo": {
     "elapsed": 7683,
     "status": "ok",
     "timestamp": 1733338085197,
     "user": {
      "displayName": "Nathan David Obeng-Amoako",
      "userId": "11953631724850969111"
     },
     "user_tz": 300
    },
    "id": "xaVv3d_IhQ8q",
    "outputId": "1c0054f3-e77a-4432-bab5-7d4e7643d857"
   },
   "outputs": [
    {
     "name": "stdout",
     "output_type": "stream",
     "text": [
      "Total instances of station ID A32046 mismatched with Tremont St at Court St: 34\n"
     ]
    }
   ],
   "source": [
    "# Count instances of \"A32046\" under start and end station IDs for the name \"Tremont St at Court St\"\n",
    "count_start = df[(df[\"start_station_id\"] == \"A32046\") &\n",
    "                          (df[\"start_station_name\"] == \"Tremont St at Court St\")].shape[0]\n",
    "\n",
    "count_end = df[(df[\"end_station_id\"] == \"A32046\") &\n",
    "                        (df[\"end_station_name\"] == \"Tremont St at Court St\")].shape[0]\n",
    "\n",
    "# Total instances\n",
    "total_count = count_start + count_end\n",
    "print(f\"Total instances of station ID A32046 mismatched with Tremont St at Court St: {total_count}\")\n",
    "\n",
    "# Update start_station_name and end_station_name for \"A32046\" instances\n",
    "# Station ID A32046 is for \"Canal St at Causeway St\" not \"Tremont St at Court St\"\n",
    "\n",
    "df.loc[(df[\"start_station_id\"] == \"A32046\") &\n",
    "                (df[\"start_station_name\"] == \"Tremont St at Court St\"),\n",
    "                \"start_station_name\"] = \"Canal St at Causeway St\"\n",
    "\n",
    "df.loc[(df[\"end_station_id\"] == \"A32046\") &\n",
    "                (df[\"end_station_name\"] == \"Tremont St at Court St\"),\n",
    "                \"end_station_name\"] = \"Canal St at Causeway St\""
   ]
  },
  {
   "cell_type": "code",
   "execution_count": 14,
   "metadata": {
    "colab": {
     "base_uri": "https://localhost:8080/"
    },
    "executionInfo": {
     "elapsed": 12476,
     "status": "ok",
     "timestamp": 1733338097666,
     "user": {
      "displayName": "Nathan David Obeng-Amoako",
      "userId": "11953631724850969111"
     },
     "user_tz": 300
    },
    "id": "Bt48fn4aBlkq",
    "outputId": "6d4f1917-2e38-4860-9b58-015533abffd4"
   },
   "outputs": [
    {
     "name": "stdout",
     "output_type": "stream",
     "text": [
      "Station names updated successfully.\n"
     ]
    }
   ],
   "source": [
    "def update_station_names(dataframe, old_name, new_name):\n",
    "    \"\"\"\n",
    "    Update station names in both start and end station columns of the DataFrame.\n",
    "\n",
    "    This function replaces occurrences of the specified old station name with the new station name\n",
    "    in both \"start_station_name\" and \"end_station_name\" columns of the DataFrame.\n",
    "\n",
    "    Parameters:\n",
    "        dataframe (pd.DataFrame): The DataFrame containing bike trip data with station names.\n",
    "        old_name (str): The old station name to be replaced.\n",
    "        new_name (str): The new station name to replace with.\n",
    "    \"\"\"\n",
    "    # Update both start and end station names\n",
    "    dataframe.loc[dataframe[\"start_station_name\"] == old_name, \"start_station_name\"] = new_name\n",
    "    dataframe.loc[dataframe[\"end_station_name\"] == old_name, \"end_station_name\"] = new_name\n",
    "\n",
    "# List of changes to be made\n",
    "changes = [\n",
    "    [\"Canal St. at Causeway St.\", \"Canal St at Causeway St\"],\n",
    "    [\"Tremont St. at Court St.\", \"Tremont St at Court St\"],\n",
    "    [\"Chestnut Hill Ave. at Ledgemere Road\", \"Chestnut Hill Ave at Ledgemere Rd\"],\n",
    "    [\"Centre St. at Allandale St.\", \"Centre St at Allandale St\"],\n",
    "    [\"Hyde Square - Barbara St at Centre St\", \"Hyde Square - Centre St at Perkins St\"],\n",
    "    [\"Swan Pl. at Minuteman Bikeway\", \"Swan Place at Minuteman Bikeway\"],\n",
    "    [\"CambridgeSide Galleria - CambridgeSide PL at Land Blvd\", \"Cambridgeside Pl at Land Blvd\"],\n",
    "    [\"Summer St at Quincy St\", \"Somerville Hospital\"],\n",
    "    [\"Everett Square (Broadway at Chelsea St)\", \"Everett Square (Broadway at Norwood St)\"],\n",
    "    [\"Damrell st at Old Colony Ave\", \"Damrell St at Old Colony Ave\"],\n",
    "    [\"Staniford at Merrimac\", \"Staniford St at Merrimac St\"],\n",
    "    [\"Shawmut Ave. at Herald St.\", \"Shawmut Ave at Herald St\"],\n",
    "    [\"Medford St. at Warren St.\", \"Medford St at Warren St\"]\n",
    "]\n",
    "\n",
    "# Applying the changes to the DataFrame\n",
    "for old_name, new_name in changes:\n",
    "    update_station_names(df, old_name, new_name)\n",
    "\n",
    "# Confirmation message\n",
    "print(\"Station names updated successfully.\")"
   ]
  },
  {
   "cell_type": "code",
   "execution_count": 15,
   "metadata": {
    "colab": {
     "base_uri": "https://localhost:8080/"
    },
    "executionInfo": {
     "elapsed": 5984,
     "status": "ok",
     "timestamp": 1733338103648,
     "user": {
      "displayName": "Nathan David Obeng-Amoako",
      "userId": "11953631724850969111"
     },
     "user_tz": 300
    },
    "id": "3-KOG7Hz9_bf",
    "outputId": "aaa3498a-85e1-4409-d046-0d5ab315a691"
   },
   "outputs": [
    {
     "name": "stdout",
     "output_type": "stream",
     "text": [
      "Start Station Names Mapping to Multiple IDs:\n",
      "nil\n",
      "\n",
      "Start Station IDs Mapping to Multiple Names:\n",
      "nil\n",
      "\n",
      "End Station Names Mapping to Multiple IDs:\n",
      "nil\n",
      "\n",
      "End Station IDs Mapping to Multiple Names:\n",
      "A32046: ['Canal St\\xa0at\\xa0Causeway\\xa0St', 'Canal St at Causeway St'] (Instances: 2)\n"
     ]
    }
   ],
   "source": [
    "# Check for mismatch again\n",
    "validate_station_mappings(df)"
   ]
  },
  {
   "cell_type": "code",
   "execution_count": 16,
   "metadata": {
    "colab": {
     "base_uri": "https://localhost:8080/"
    },
    "executionInfo": {
     "elapsed": 7301,
     "status": "ok",
     "timestamp": 1733338110945,
     "user": {
      "displayName": "Nathan David Obeng-Amoako",
      "userId": "11953631724850969111"
     },
     "user_tz": 300
    },
    "id": "bUEfEz2jL4Nt",
    "outputId": "7d0c7f2c-552f-408f-e070-777bae39f03f"
   },
   "outputs": [
    {
     "name": "stdout",
     "output_type": "stream",
     "text": [
      "Start Station Names Mapping to Multiple IDs:\n",
      "nil\n",
      "\n",
      "Start Station IDs Mapping to Multiple Names:\n",
      "nil\n",
      "\n",
      "End Station Names Mapping to Multiple IDs:\n",
      "nil\n",
      "\n",
      "End Station IDs Mapping to Multiple Names:\n",
      "nil\n"
     ]
    }
   ],
   "source": [
    "\"\"\"\n",
    "The \\xa0 character is the Unicode representation for a non-breaking space (NBSP). This character\n",
    "is different from a regular space ( \" \" , Unicode U+0020 ) although they appear the same.\n",
    "\"\"\"\n",
    "\n",
    "# Standardize station names for A32046\n",
    "standard_name = \"Canal St at Causeway St\"\n",
    "\n",
    "# Identify and replace the inconsistent names\n",
    "df.loc[\n",
    "    (df[\"end_station_id\"] == \"A32046\") &\n",
    "    (df[\"end_station_name\"].isin([\"Canal St at Causeway St\",\n",
    "    \"Canal St\\xa0at\\xa0Causeway\\xa0St\"])), \"end_station_name\"] = standard_name\n",
    "\n",
    "# Final check for mismatch\n",
    "validate_station_mappings(df)"
   ]
  },
  {
   "cell_type": "code",
   "execution_count": null,
   "metadata": {},
   "outputs": [
    {
     "name": "stdout",
     "output_type": "stream",
     "text": [
      "Cleaned data saved to: C:/Users/natda/Desktop/NatDave/Academics/PhD_NU/RESEARCH/BlueBikes/cleaned_trips.csv\n"
     ]
    }
   ],
   "source": [
    "# Save the cleaned dataset for reuse\n",
    "cleaned_path = base_dir + \"cleaned_trips.csv\"\n",
    "df.to_csv(cleaned_path, index=False)\n",
    "print(f\"Cleaned data saved\")"
   ]
  }
 ],
 "metadata": {
  "colab": {
   "authorship_tag": "ABX9TyMTKSystjnUlPI1+JJVQPh4",
   "mount_file_id": "1E-jPB3-ciu9nq5Ma58qX2gqLCBRzUx1v",
   "provenance": []
  },
  "kernelspec": {
   "display_name": "Python 3",
   "name": "python3"
  },
  "language_info": {
   "codemirror_mode": {
    "name": "ipython",
    "version": 3
   },
   "file_extension": ".py",
   "mimetype": "text/x-python",
   "name": "python",
   "nbconvert_exporter": "python",
   "pygments_lexer": "ipython3",
   "version": "3.10.0"
  }
 },
 "nbformat": 4,
 "nbformat_minor": 0
}
